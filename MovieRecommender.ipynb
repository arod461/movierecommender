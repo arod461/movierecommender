{
  "metadata": {
    "kernelspec": {
      "name": "python",
      "display_name": "Python (Pyodide)",
      "language": "python"
    },
    "language_info": {
      "codemirror_mode": {
        "name": "python",
        "version": 3
      },
      "file_extension": ".py",
      "mimetype": "text/x-python",
      "name": "python",
      "nbconvert_exporter": "python",
      "pygments_lexer": "ipython3",
      "version": "3.8"
    }
  },
  "nbformat_minor": 4,
  "nbformat": 4,
  "cells": [
    {
      "cell_type": "code",
      "source": "#install needed packages for panada and widgets\n%pip install ipywidgets\n%pip install pandas",
      "metadata": {
        "trusted": true
      },
      "outputs": [],
      "execution_count": 18
    },
    {
      "cell_type": "code",
      "source": "import numpy as np # linear algebra\nimport pandas as pd # data processing, CSV file I/O (e.g. pd.read_csv)\nimport ipywidgets as widgets #widgets\nfrom ipywidgets import Button, HBox, VBox, Layout #layout\nfrom IPython.display import display #displays\n\nimport matplotlib.pyplot as plt",
      "metadata": {
        "trusted": true,
        "scrolled": true
      },
      "outputs": [],
      "execution_count": 19
    },
    {
      "cell_type": "code",
      "source": "df= pd.read_csv('netfix_cleaned.csv') #import csv file aka the data\ndf # displays the DataFrame",
      "metadata": {
        "trusted": true,
        "scrolled": true
      },
      "outputs": [
        {
          "execution_count": 20,
          "output_type": "execute_result",
          "data": {
            "text/plain": "                        names  release_year maturity_rating duration  \\\n0               Mission Majnu          2023        U/A 16+     2h 9m   \n1                      Cirkus          2022         U/A 7+    2h 14m   \n2         Gangubai Kathiawadi          2022        U/A 16+    2h 33m   \n3                     Thunivu          2023        U/A 16+    2h 22m   \n4           Bhool Bhulaiyaa 2          2022        U/A 13+    2h 21m   \n..                        ...           ...             ...      ...   \n555            Happy New Year          2014        U/A 13+    2h 58m   \n556               RRR (Hindi)          2022              A     3h 5m   \n557            Major (Telugu)          2022        U/A 16+    2h 25m   \n558              Om Shanti Om          2007        U/A 16+    2h 48m   \n559  Kabhi Khushi Kabhie Gham          2001        U/A 13+    3h 29m   \n\n                                           description  \\\n0    In the 1970s,an undercover Indian spy takes on...   \n1    Chaos and comedy take the spotlight when a rin...   \n2    Duped and sold to a brothel,a young woman fear...   \n3    A major bank heist takes an unnerving turn whe...   \n4    When strangers Reet and Ruhan cross paths,thei...   \n..                                                 ...   \n555  A revenge-seeking diamond thief gathers a ragt...   \n556  A fearless warrior on a perilous mission comes...   \n557  This biopic follows the life of Indian Army of...   \n558  Reincarnated 30 years after being killed in a ...   \n559  Years after his father disowns his adopted bro...   \n\n                                                 genre             mood  \\\n0    Spy, Hindi-Language, Bollywood, Action & Adven...      Suspenseful   \n1                  Hindi-Language, Bollywood, Comedies            Goofy   \n2               Hindi-Language,  Based on Books,Dramas      Provocative   \n3                            Crime, Action & Adventure         Exciting   \n4          Hindi-Language, Bollywood, Comedies,Horror           Offbeat   \n..                                                 ...              ...   \n555  Hindi-Language, Bollywood, Action & Adventure,...        Feel-Good   \n556                          Action & Adventure,Dramas  Adrenaline Rush   \n557       Based on Real Life,Action & Adventure,Dramas      Bittersweet   \n558  Romantic Comedies,Hindi-Language, Bollywood, C...        Emotional   \n559                  Hindi-Language, Bollywood, Dramas      Sentimental   \n\n                                                  cast              subtitles  \\\n0    Sidharth Malhotra,Rashmika Mandanna,Parmeet Se...  English,English,Hindi   \n1    Ranveer Singh,Varun Sharma,Pooja Hegde,Jacquel...          English,Hindi   \n2    Alia Bhatt,Vijay Raaz,Seema Pahwa,Ajay Devgn,J...          English,Hindi   \n3    Ajith Kumar,Manju Warrier,Samuthirakani,John K...          English,Hindi   \n4    Tabu,Kartik Aaryan,Kiara Advani,Rajpal Yadav,S...          English,Hindi   \n..                                                 ...                    ...   \n555  Shah Rukh Khan,Deepika Padukone,Abhishek Bachc...                English   \n556  NTR Jr.,Ram Charan,Ajay Devgn,Alia Bhatt,Shriy...          English,Hindi   \n557  Adivi Sesh,Prakash Raj,Sobhita Dhulipala,Saiee...                English   \n558  Shah Rukh Khan,Deepika Padukone,Shreyas Talpad...                English   \n559  Amitabh Bachchan,Jaya Bhaduri,Shah Rukh Khan,K...                English   \n\n                                                 audio  \n0    English,Hindi - Audio Description,Hindi Origin...  \n1                                      Hindi Original   \n2                               Hindi Original, Telugu  \n3                                      Tamil Original   \n4                                      Hindi Original   \n..                                                 ...  \n555                                    Hindi Original   \n556                                      English,Hindi  \n557                                   Telugu Original   \n558                                    Hindi Original   \n559                                    Hindi Original   \n\n[560 rows x 10 columns]",
            "text/html": "<div>\n<style scoped>\n    .dataframe tbody tr th:only-of-type {\n        vertical-align: middle;\n    }\n\n    .dataframe tbody tr th {\n        vertical-align: top;\n    }\n\n    .dataframe thead th {\n        text-align: right;\n    }\n</style>\n<table border=\"1\" class=\"dataframe\">\n  <thead>\n    <tr style=\"text-align: right;\">\n      <th></th>\n      <th>names</th>\n      <th>release_year</th>\n      <th>maturity_rating</th>\n      <th>duration</th>\n      <th>description</th>\n      <th>genre</th>\n      <th>mood</th>\n      <th>cast</th>\n      <th>subtitles</th>\n      <th>audio</th>\n    </tr>\n  </thead>\n  <tbody>\n    <tr>\n      <th>0</th>\n      <td>Mission Majnu</td>\n      <td>2023</td>\n      <td>U/A 16+</td>\n      <td>2h 9m</td>\n      <td>In the 1970s,an undercover Indian spy takes on...</td>\n      <td>Spy, Hindi-Language, Bollywood, Action &amp; Adven...</td>\n      <td>Suspenseful</td>\n      <td>Sidharth Malhotra,Rashmika Mandanna,Parmeet Se...</td>\n      <td>English,English,Hindi</td>\n      <td>English,Hindi - Audio Description,Hindi Origin...</td>\n    </tr>\n    <tr>\n      <th>1</th>\n      <td>Cirkus</td>\n      <td>2022</td>\n      <td>U/A 7+</td>\n      <td>2h 14m</td>\n      <td>Chaos and comedy take the spotlight when a rin...</td>\n      <td>Hindi-Language, Bollywood, Comedies</td>\n      <td>Goofy</td>\n      <td>Ranveer Singh,Varun Sharma,Pooja Hegde,Jacquel...</td>\n      <td>English,Hindi</td>\n      <td>Hindi Original</td>\n    </tr>\n    <tr>\n      <th>2</th>\n      <td>Gangubai Kathiawadi</td>\n      <td>2022</td>\n      <td>U/A 16+</td>\n      <td>2h 33m</td>\n      <td>Duped and sold to a brothel,a young woman fear...</td>\n      <td>Hindi-Language,  Based on Books,Dramas</td>\n      <td>Provocative</td>\n      <td>Alia Bhatt,Vijay Raaz,Seema Pahwa,Ajay Devgn,J...</td>\n      <td>English,Hindi</td>\n      <td>Hindi Original, Telugu</td>\n    </tr>\n    <tr>\n      <th>3</th>\n      <td>Thunivu</td>\n      <td>2023</td>\n      <td>U/A 16+</td>\n      <td>2h 22m</td>\n      <td>A major bank heist takes an unnerving turn whe...</td>\n      <td>Crime, Action &amp; Adventure</td>\n      <td>Exciting</td>\n      <td>Ajith Kumar,Manju Warrier,Samuthirakani,John K...</td>\n      <td>English,Hindi</td>\n      <td>Tamil Original</td>\n    </tr>\n    <tr>\n      <th>4</th>\n      <td>Bhool Bhulaiyaa 2</td>\n      <td>2022</td>\n      <td>U/A 13+</td>\n      <td>2h 21m</td>\n      <td>When strangers Reet and Ruhan cross paths,thei...</td>\n      <td>Hindi-Language, Bollywood, Comedies,Horror</td>\n      <td>Offbeat</td>\n      <td>Tabu,Kartik Aaryan,Kiara Advani,Rajpal Yadav,S...</td>\n      <td>English,Hindi</td>\n      <td>Hindi Original</td>\n    </tr>\n    <tr>\n      <th>...</th>\n      <td>...</td>\n      <td>...</td>\n      <td>...</td>\n      <td>...</td>\n      <td>...</td>\n      <td>...</td>\n      <td>...</td>\n      <td>...</td>\n      <td>...</td>\n      <td>...</td>\n    </tr>\n    <tr>\n      <th>555</th>\n      <td>Happy New Year</td>\n      <td>2014</td>\n      <td>U/A 13+</td>\n      <td>2h 58m</td>\n      <td>A revenge-seeking diamond thief gathers a ragt...</td>\n      <td>Hindi-Language, Bollywood, Action &amp; Adventure,...</td>\n      <td>Feel-Good</td>\n      <td>Shah Rukh Khan,Deepika Padukone,Abhishek Bachc...</td>\n      <td>English</td>\n      <td>Hindi Original</td>\n    </tr>\n    <tr>\n      <th>556</th>\n      <td>RRR (Hindi)</td>\n      <td>2022</td>\n      <td>A</td>\n      <td>3h 5m</td>\n      <td>A fearless warrior on a perilous mission comes...</td>\n      <td>Action &amp; Adventure,Dramas</td>\n      <td>Adrenaline Rush</td>\n      <td>NTR Jr.,Ram Charan,Ajay Devgn,Alia Bhatt,Shriy...</td>\n      <td>English,Hindi</td>\n      <td>English,Hindi</td>\n    </tr>\n    <tr>\n      <th>557</th>\n      <td>Major (Telugu)</td>\n      <td>2022</td>\n      <td>U/A 16+</td>\n      <td>2h 25m</td>\n      <td>This biopic follows the life of Indian Army of...</td>\n      <td>Based on Real Life,Action &amp; Adventure,Dramas</td>\n      <td>Bittersweet</td>\n      <td>Adivi Sesh,Prakash Raj,Sobhita Dhulipala,Saiee...</td>\n      <td>English</td>\n      <td>Telugu Original</td>\n    </tr>\n    <tr>\n      <th>558</th>\n      <td>Om Shanti Om</td>\n      <td>2007</td>\n      <td>U/A 16+</td>\n      <td>2h 48m</td>\n      <td>Reincarnated 30 years after being killed in a ...</td>\n      <td>Romantic Comedies,Hindi-Language, Bollywood, C...</td>\n      <td>Emotional</td>\n      <td>Shah Rukh Khan,Deepika Padukone,Shreyas Talpad...</td>\n      <td>English</td>\n      <td>Hindi Original</td>\n    </tr>\n    <tr>\n      <th>559</th>\n      <td>Kabhi Khushi Kabhie Gham</td>\n      <td>2001</td>\n      <td>U/A 13+</td>\n      <td>3h 29m</td>\n      <td>Years after his father disowns his adopted bro...</td>\n      <td>Hindi-Language, Bollywood, Dramas</td>\n      <td>Sentimental</td>\n      <td>Amitabh Bachchan,Jaya Bhaduri,Shah Rukh Khan,K...</td>\n      <td>English</td>\n      <td>Hindi Original</td>\n    </tr>\n  </tbody>\n</table>\n<p>560 rows × 10 columns</p>\n</div>"
          },
          "metadata": {}
        }
      ],
      "execution_count": 20
    },
    {
      "cell_type": "code",
      "source": "#Import TfIdfVectorizer from scikit-learn\nfrom sklearn.feature_extraction.text import TfidfVectorizer\n\n#removes all english stop words\ntfidf = TfidfVectorizer(stop_words='english')\n\n#creates matrix by fitting and transforming the data\ntfidf_matrix = tfidf.fit_transform(df['description'])\n\n#shape of tfidf_matrix\ntfidf_matrix.shape\n\n# Import linear_kernel\nfrom sklearn.metrics.pairwise import linear_kernel\n\n# cosine similarity matrix\ncosine_sim = linear_kernel(tfidf_matrix, tfidf_matrix)\n\n#reverse map of indices and movie titles\nindices = pd.Series(df.index, index=df['names']).drop_duplicates()\n\n#takes in movie title as input and outputs most similar movies\ndef get_recommendations(title, cosine_sim=cosine_sim):\n    # Get the index of the movie that matches the title\n    idx = indices[title]\n\n    # Get the pairwsie similarity scores of all movies with that movie\n    sim_scores = list(enumerate(cosine_sim[idx]))\n\n    # Sort the movies based on the similarity scores\n    sim_scores = sorted(sim_scores, key=lambda x: x[1], reverse=True)\n\n    # Get the scores of the 10 most similar movies\n    sim_scores = sim_scores[1:11]\n\n    # Get the movie indices\n    movie_indices = [i[0] for i in sim_scores]\n\n    # Return the top 10 most similar movies\n    return df['names'].iloc[movie_indices]\n\nget_recommendations('Mission Majnu')",
      "metadata": {
        "trusted": true
      },
      "outputs": [
        {
          "execution_count": 21,
          "output_type": "execute_result",
          "data": {
            "text/plain": "155                Codename: Tiranga\n278                Codename: Tiranga\n120                      Interceptor\n266                   Sarkar (Tamil)\n375                   Sarkar (Tamil)\n475                   Sarkar (Tamil)\n138    Mission: Impossible - Fallout\n265    Mission: Impossible - Fallout\n298    Mission: Impossible - Fallout\n369    Mission: Impossible - Fallout\nName: names, dtype: object"
          },
          "metadata": {}
        }
      ],
      "execution_count": 21
    },
    {
      "cell_type": "code",
      "source": "genres= df['genre'].tolist() #takes genres from the csv and puts them in a list\n#print(df['genre'][4])\n\n#takes list of genres from each movie and creates one list\ngenre_options = []\nfor inner_list in genres:\n    new_element=inner_list.split(\",\")\n    genre_options+=new_element\n\n#takes list of all genres just created and finds just the unique values\nunique_genre = []\nfor element in genre_options:\n    if element not in unique_genre:\n        unique_genre.append(element)\n        \n#print(unique_genre)",
      "metadata": {
        "trusted": true
      },
      "outputs": [],
      "execution_count": 22
    },
    {
      "cell_type": "code",
      "source": "#creates radio buttons based on the unique genres listed in the data\ngenre_rb= widgets.Dropdown(\n    value='Spy',\n    options=unique_genre,\n    layout= Layout(align_items= 'center', width='250px', vertical_align= 'middle'),\n    #flex_flow='row wrap\n    #description=('Movie Genres:'),\n    disabled=False\n)",
      "metadata": {
        "trusted": true
      },
      "outputs": [],
      "execution_count": 23
    },
    {
      "cell_type": "code",
      "source": "# layout formatting for widgets\nitem_layout=Layout(display='flex', flex_flow='column',\n                   border='solid 1px', align_items= 'center',\n                   width='250ox', height='auto',\n                   padding= '2px', vertical_align= 'middle' \n                  )",
      "metadata": {
        "trusted": true
      },
      "outputs": [],
      "execution_count": 24
    },
    {
      "cell_type": "code",
      "source": "# creates a list of movie titles\nnames= df['names'].tolist()\n#print(names)\n\n#combobox for movie titles, allows user to start typing a movie and select the title\nmovie_cb= widgets.Combobox(\n    placeholder='Start typing for suggestions',\n    options= names,\n    description='Enter a movie name:',\n    ensure_option=True,\n    disabled=False,\n    layout= Layout(display='flex', flex_flow='column', align_items= 'center',\n                   width='250px', height='auto', \n                   padding= '10px', vertical_align= 'middle', border='hidden'),\n    style={'description_width': 'initial'}\n)",
      "metadata": {
        "trusted": true
      },
      "outputs": [],
      "execution_count": 25
    },
    {
      "cell_type": "code",
      "source": "title1= widgets.Label(value= 'Kadabra', font_weight= 'bold', \n                     layout=Layout(display='flex', flex_flow='column', border='dashed 2px', align_items= 'center',\n                                   width='250px', height='auto', padding= '25px', vertical_align= 'middle'), background_color='#7b88db')\ntitle2= widgets.Label(value= 'Movie', font_weight= 'bold', \n                     layout=Layout(display='flex', flex_flow='column', border='dashed 2px', align_items= 'center',\n                                   width='250px', height='auto', padding= '25px', vertical_align= 'middle'), background_color='#7b88db')\ntitle3= widgets.Label(value= 'Finder', font_weight= 'bold', \n                     layout=Layout(display='flex', flex_flow='column', border='dashed 2px', align_items= 'center',\n                                   width='250px', height='auto', padding= '25px', vertical_align= 'middle'), background_color='#7b88db')\ntitle_genre= widgets.Label(value= 'Movie Genres', font_weight= 'bold',\n                           layout=Layout(display='flex', flex_flow='column', align_items= 'center', \n                                         height='auto', width='250px', padding= '5px', vertical_align= 'middle'), background_color='#7b88db')",
      "metadata": {
        "trusted": true
      },
      "outputs": [],
      "execution_count": 26
    },
    {
      "cell_type": "code",
      "source": "# movie_rec = widgets.Accordion(children=[widgets.Text(),widgets.Text()], titles=('Text','Text'), layout=Layout(display='flex', flex_flow='column', border='solid 1px', align_items= 'center', \n            #                             height='auto', width='225px', padding= '5px', vertical_align= 'middle', positioning='right'))",
      "metadata": {
        "trusted": true
      },
      "outputs": [],
      "execution_count": 27
    },
    {
      "cell_type": "code",
      "source": "# button to run recommender\nbutton=widgets.Button(description='Find A Movie', layout=item_layout, border='solid 2px', positioning='center', align_items = 'center', vertical_align= 'middle')\n#output = widgets.Output()",
      "metadata": {
        "trusted": true
      },
      "outputs": [],
      "execution_count": 28
    },
    {
      "cell_type": "code",
      "source": "empty_label_small= widgets.Label(value= '', font_weight= 'bold', layout=Layout(display='flex', flex_flow='column', align_items= 'center',\n                                                                         width='5px', height='auto', padding= '2px', vertical_align= 'middle'))\n\nempty_label_large= widgets.Label(value= '', font_weight= 'bold', layout=Layout(display='flex', flex_flow='column', align_items= 'center',\n                                                                         width='5px', height='auto', padding= '40px', vertical_align= 'middle'))",
      "metadata": {
        "trusted": true
      },
      "outputs": [],
      "execution_count": 29
    },
    {
      "cell_type": "code",
      "source": "x= get_recommendations('Mission Majnu')\nprint(type(x))\nfor i in x:\n    print(i)\n",
      "metadata": {
        "trusted": true
      },
      "outputs": [
        {
          "name": "stdout",
          "text": "<class 'pandas.core.series.Series'>\nCodename: Tiranga\nCodename: Tiranga\nInterceptor\nSarkar (Tamil)\nSarkar (Tamil)\nSarkar (Tamil)\nMission: Impossible - Fallout\nMission: Impossible - Fallout\nMission: Impossible - Fallout\nMission: Impossible - Fallout\n",
          "output_type": "stream"
        }
      ],
      "execution_count": 30
    },
    {
      "cell_type": "code",
      "source": "get_recommendations('Mission Majnu')",
      "metadata": {
        "trusted": true
      },
      "outputs": [
        {
          "execution_count": 31,
          "output_type": "execute_result",
          "data": {
            "text/plain": "155                Codename: Tiranga\n278                Codename: Tiranga\n120                      Interceptor\n266                   Sarkar (Tamil)\n375                   Sarkar (Tamil)\n475                   Sarkar (Tamil)\n138    Mission: Impossible - Fallout\n265    Mission: Impossible - Fallout\n298    Mission: Impossible - Fallout\n369    Mission: Impossible - Fallout\nName: names, dtype: object"
          },
          "metadata": {}
        }
      ],
      "execution_count": 31
    },
    {
      "cell_type": "code",
      "source": "output = widgets.Output()\n\ndef on_button_clicked(b):\n    g= genre_rb.value\n    m= movie_cb.value\n\n    x= get_recommendations(m)\n    unique_rec = []\n    \n    for element in x:\n        if element not in unique_rec:\n                unique_rec.append(element)\n    with output:\n        output.clear_output()\n        print('hi')\n        print(unique_rec, g, m)\n\nbutton.on_click(on_button_clicked)",
      "metadata": {
        "trusted": true
      },
      "outputs": [],
      "execution_count": 34
    },
    {
      "cell_type": "code",
      "source": "# widget box for radio buttons\nleft_box= widgets.VBox([title1,movie_cb,empty_label_small])\n# widget box for combo box and button\nright_box= widgets.VBox([title2,empty_label_small, title_genre, genre_rb, empty_label_small, empty_label_small, empty_label_small, empty_label_small, button])\n# empty widget box for space\ncenter_box= widgets.VBox([empty_label_small])\n\n# widget box for recommendations\nfar_right_box= widgets.VBox([title3, output])\n\n# widget box to hold other boxes\nwidgets.Box([left_box, right_box, far_right_box])\n# df[['names', 'cast', 'genre', 'subtitles', 'audio']].head(3)",
      "metadata": {
        "trusted": true,
        "scrolled": true
      },
      "outputs": [
        {
          "execution_count": 35,
          "output_type": "execute_result",
          "data": {
            "text/plain": "Box(children=(VBox(children=(Label(value='Kadabra', layout=Layout(align_items='center', border_bottom='dashed …",
            "application/vnd.jupyter.widget-view+json": {
              "version_major": 2,
              "version_minor": 0,
              "model_id": "59f44bc4fda04e1c820aef34baa5217f"
            }
          },
          "metadata": {}
        }
      ],
      "execution_count": 35
    },
    {
      "cell_type": "code",
      "source": "\n",
      "metadata": {
        "trusted": true
      },
      "outputs": [],
      "execution_count": null
    },
    {
      "cell_type": "code",
      "source": "features = ['cast', 'genre', 'subtitles', 'audio']\n# converts strings with commas into lists\nfor feature in features:\n    df[feature]=df[feature].str.split(',')",
      "metadata": {
        "trusted": true
      },
      "outputs": [],
      "execution_count": 17
    },
    {
      "cell_type": "code",
      "source": "counts=dict()\nfor i in df.index:\n    for g in df.loc[i, 'genre'].split(\",\"):\n        if g not in counts:\n            counts[g]=1\n        else:\n            counts[g]= counts[g]+1\n\nplt.rcParams.update({'font.size': 8})\nplt.bar(list(counts.keys()), counts.values())\nplt.xticks(rotation=90)\nplt.xlabel('Genres')\nplt.ylabel('Counts')",
      "metadata": {
        "trusted": true
      },
      "outputs": [
        {
          "ename": "<class 'AttributeError'>",
          "evalue": "'list' object has no attribute 'split'",
          "traceback": [
            "\u001b[0;31m---------------------------------------------------------------------------\u001b[0m",
            "\u001b[0;31mAttributeError\u001b[0m                            Traceback (most recent call last)",
            "Cell \u001b[0;32mIn[69], line 3\u001b[0m\n\u001b[1;32m      1\u001b[0m counts\u001b[38;5;241m=\u001b[39m\u001b[38;5;28mdict\u001b[39m()\n\u001b[1;32m      2\u001b[0m \u001b[38;5;28;01mfor\u001b[39;00m i \u001b[38;5;129;01min\u001b[39;00m df\u001b[38;5;241m.\u001b[39mindex:\n\u001b[0;32m----> 3\u001b[0m     \u001b[38;5;28;01mfor\u001b[39;00m g \u001b[38;5;129;01min\u001b[39;00m \u001b[43mdf\u001b[49m\u001b[38;5;241;43m.\u001b[39;49m\u001b[43mloc\u001b[49m\u001b[43m[\u001b[49m\u001b[43mi\u001b[49m\u001b[43m,\u001b[49m\u001b[43m \u001b[49m\u001b[38;5;124;43m'\u001b[39;49m\u001b[38;5;124;43mgenre\u001b[39;49m\u001b[38;5;124;43m'\u001b[39;49m\u001b[43m]\u001b[49m\u001b[38;5;241;43m.\u001b[39;49m\u001b[43msplit\u001b[49m(\u001b[38;5;124m\"\u001b[39m\u001b[38;5;124m,\u001b[39m\u001b[38;5;124m\"\u001b[39m):\n\u001b[1;32m      4\u001b[0m         \u001b[38;5;28;01mif\u001b[39;00m g \u001b[38;5;129;01mnot\u001b[39;00m \u001b[38;5;129;01min\u001b[39;00m counts:\n\u001b[1;32m      5\u001b[0m             counts[g]\u001b[38;5;241m=\u001b[39m\u001b[38;5;241m1\u001b[39m\n",
            "\u001b[0;31mAttributeError\u001b[0m: 'list' object has no attribute 'split'"
          ],
          "output_type": "error"
        }
      ],
      "execution_count": 69
    },
    {
      "cell_type": "code",
      "source": "",
      "metadata": {
        "trusted": true
      },
      "outputs": [],
      "execution_count": null
    }
  ]
}